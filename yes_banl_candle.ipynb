{
 "cells": [
  {
   "cell_type": "code",
   "execution_count": 20,
   "metadata": {},
   "outputs": [],
   "source": [
    "# to plot  interactive candlestick of yes bank\n",
    "import matplotlib.pyplot as plt\n",
    "import plotly.graph_objects as go\n",
    "import pandas as pd"
   ]
  },
  {
   "cell_type": "code",
   "execution_count": 21,
   "metadata": {},
   "outputs": [],
   "source": [
    "#store data set\n",
    "df=pd.read_csv(\"YESBANKcandlestick.csv\")"
   ]
  },
  {
   "cell_type": "code",
   "execution_count": 23,
   "metadata": {},
   "outputs": [
    {
     "data": {
      "text/html": [
       "<div>\n",
       "<style scoped>\n",
       "    .dataframe tbody tr th:only-of-type {\n",
       "        vertical-align: middle;\n",
       "    }\n",
       "\n",
       "    .dataframe tbody tr th {\n",
       "        vertical-align: top;\n",
       "    }\n",
       "\n",
       "    .dataframe thead th {\n",
       "        text-align: right;\n",
       "    }\n",
       "</style>\n",
       "<table border=\"1\" class=\"dataframe\">\n",
       "  <thead>\n",
       "    <tr style=\"text-align: right;\">\n",
       "      <th></th>\n",
       "      <th>Symbol</th>\n",
       "      <th>Series</th>\n",
       "      <th>Date</th>\n",
       "      <th>Prev Close</th>\n",
       "      <th>Open Price</th>\n",
       "      <th>High Price</th>\n",
       "      <th>Low Price</th>\n",
       "      <th>Last Price</th>\n",
       "      <th>Close Price</th>\n",
       "      <th>Average Price</th>\n",
       "      <th>Total Traded Quantity</th>\n",
       "      <th>Turnover</th>\n",
       "      <th>No. of Trades</th>\n",
       "      <th>Deliverable Qty</th>\n",
       "      <th>% Dly Qt to Traded Qty</th>\n",
       "    </tr>\n",
       "  </thead>\n",
       "  <tbody>\n",
       "    <tr>\n",
       "      <th>2020-04-20</th>\n",
       "      <td>YESBANK</td>\n",
       "      <td>EQ</td>\n",
       "      <td>20-Apr-2020</td>\n",
       "      <td>25.10</td>\n",
       "      <td>25.60</td>\n",
       "      <td>30.10</td>\n",
       "      <td>25.10</td>\n",
       "      <td>29.75</td>\n",
       "      <td>29.45</td>\n",
       "      <td>28.70</td>\n",
       "      <td>114977373</td>\n",
       "      <td>3.300281e+09</td>\n",
       "      <td>332695</td>\n",
       "      <td>24442623</td>\n",
       "      <td>21.26</td>\n",
       "    </tr>\n",
       "    <tr>\n",
       "      <th>2020-04-21</th>\n",
       "      <td>YESBANK</td>\n",
       "      <td>EQ</td>\n",
       "      <td>21-Apr-2020</td>\n",
       "      <td>29.45</td>\n",
       "      <td>29.40</td>\n",
       "      <td>30.45</td>\n",
       "      <td>27.55</td>\n",
       "      <td>29.55</td>\n",
       "      <td>29.65</td>\n",
       "      <td>29.48</td>\n",
       "      <td>76224557</td>\n",
       "      <td>2.247228e+09</td>\n",
       "      <td>239510</td>\n",
       "      <td>18191318</td>\n",
       "      <td>23.87</td>\n",
       "    </tr>\n",
       "    <tr>\n",
       "      <th>2020-04-22</th>\n",
       "      <td>YESBANK</td>\n",
       "      <td>EQ</td>\n",
       "      <td>22-Apr-2020</td>\n",
       "      <td>29.65</td>\n",
       "      <td>29.00</td>\n",
       "      <td>30.30</td>\n",
       "      <td>28.80</td>\n",
       "      <td>29.60</td>\n",
       "      <td>29.60</td>\n",
       "      <td>29.48</td>\n",
       "      <td>35026262</td>\n",
       "      <td>1.032738e+09</td>\n",
       "      <td>156808</td>\n",
       "      <td>9570333</td>\n",
       "      <td>27.32</td>\n",
       "    </tr>\n",
       "    <tr>\n",
       "      <th>2020-04-23</th>\n",
       "      <td>YESBANK</td>\n",
       "      <td>EQ</td>\n",
       "      <td>23-Apr-2020</td>\n",
       "      <td>29.60</td>\n",
       "      <td>29.60</td>\n",
       "      <td>29.90</td>\n",
       "      <td>27.85</td>\n",
       "      <td>28.30</td>\n",
       "      <td>28.30</td>\n",
       "      <td>28.92</td>\n",
       "      <td>33488476</td>\n",
       "      <td>9.685897e+08</td>\n",
       "      <td>145896</td>\n",
       "      <td>11645113</td>\n",
       "      <td>34.77</td>\n",
       "    </tr>\n",
       "    <tr>\n",
       "      <th>2020-04-24</th>\n",
       "      <td>YESBANK</td>\n",
       "      <td>EQ</td>\n",
       "      <td>24-Apr-2020</td>\n",
       "      <td>28.30</td>\n",
       "      <td>28.05</td>\n",
       "      <td>28.15</td>\n",
       "      <td>26.30</td>\n",
       "      <td>26.75</td>\n",
       "      <td>26.60</td>\n",
       "      <td>26.95</td>\n",
       "      <td>34135568</td>\n",
       "      <td>9.201130e+08</td>\n",
       "      <td>123302</td>\n",
       "      <td>10831230</td>\n",
       "      <td>31.73</td>\n",
       "    </tr>\n",
       "    <tr>\n",
       "      <th>...</th>\n",
       "      <td>...</td>\n",
       "      <td>...</td>\n",
       "      <td>...</td>\n",
       "      <td>...</td>\n",
       "      <td>...</td>\n",
       "      <td>...</td>\n",
       "      <td>...</td>\n",
       "      <td>...</td>\n",
       "      <td>...</td>\n",
       "      <td>...</td>\n",
       "      <td>...</td>\n",
       "      <td>...</td>\n",
       "      <td>...</td>\n",
       "      <td>...</td>\n",
       "      <td>...</td>\n",
       "    </tr>\n",
       "    <tr>\n",
       "      <th>2020-07-13</th>\n",
       "      <td>YESBANK</td>\n",
       "      <td>EQ</td>\n",
       "      <td>13-Jul-2020</td>\n",
       "      <td>25.55</td>\n",
       "      <td>22.05</td>\n",
       "      <td>23.50</td>\n",
       "      <td>21.00</td>\n",
       "      <td>22.05</td>\n",
       "      <td>22.05</td>\n",
       "      <td>22.47</td>\n",
       "      <td>70087262</td>\n",
       "      <td>1.574552e+09</td>\n",
       "      <td>174461</td>\n",
       "      <td>37330261</td>\n",
       "      <td>53.26</td>\n",
       "    </tr>\n",
       "    <tr>\n",
       "      <th>2020-07-14</th>\n",
       "      <td>YESBANK</td>\n",
       "      <td>EQ</td>\n",
       "      <td>14-Jul-2020</td>\n",
       "      <td>22.05</td>\n",
       "      <td>21.80</td>\n",
       "      <td>21.80</td>\n",
       "      <td>20.30</td>\n",
       "      <td>20.90</td>\n",
       "      <td>20.95</td>\n",
       "      <td>20.89</td>\n",
       "      <td>36853467</td>\n",
       "      <td>7.697035e+08</td>\n",
       "      <td>83277</td>\n",
       "      <td>17666488</td>\n",
       "      <td>47.94</td>\n",
       "    </tr>\n",
       "    <tr>\n",
       "      <th>2020-07-15</th>\n",
       "      <td>YESBANK</td>\n",
       "      <td>EQ</td>\n",
       "      <td>15-Jul-2020</td>\n",
       "      <td>20.95</td>\n",
       "      <td>20.50</td>\n",
       "      <td>22.00</td>\n",
       "      <td>20.30</td>\n",
       "      <td>20.50</td>\n",
       "      <td>20.45</td>\n",
       "      <td>20.96</td>\n",
       "      <td>43266944</td>\n",
       "      <td>9.067451e+08</td>\n",
       "      <td>97745</td>\n",
       "      <td>18972883</td>\n",
       "      <td>43.85</td>\n",
       "    </tr>\n",
       "    <tr>\n",
       "      <th>2020-07-16</th>\n",
       "      <td>YESBANK</td>\n",
       "      <td>EQ</td>\n",
       "      <td>16-Jul-2020</td>\n",
       "      <td>20.45</td>\n",
       "      <td>20.00</td>\n",
       "      <td>20.25</td>\n",
       "      <td>18.70</td>\n",
       "      <td>19.15</td>\n",
       "      <td>19.20</td>\n",
       "      <td>19.06</td>\n",
       "      <td>38231469</td>\n",
       "      <td>7.286527e+08</td>\n",
       "      <td>93991</td>\n",
       "      <td>17098840</td>\n",
       "      <td>44.72</td>\n",
       "    </tr>\n",
       "    <tr>\n",
       "      <th>2020-07-17</th>\n",
       "      <td>YESBANK</td>\n",
       "      <td>EQ</td>\n",
       "      <td>17-Jul-2020</td>\n",
       "      <td>19.20</td>\n",
       "      <td>18.40</td>\n",
       "      <td>20.40</td>\n",
       "      <td>18.10</td>\n",
       "      <td>19.90</td>\n",
       "      <td>19.80</td>\n",
       "      <td>19.31</td>\n",
       "      <td>71216655</td>\n",
       "      <td>1.374963e+09</td>\n",
       "      <td>119434</td>\n",
       "      <td>21531742</td>\n",
       "      <td>30.23</td>\n",
       "    </tr>\n",
       "  </tbody>\n",
       "</table>\n",
       "<p>63 rows × 15 columns</p>\n",
       "</div>"
      ],
      "text/plain": [
       "             Symbol Series         Date  Prev Close  Open Price  High Price  \\\n",
       "2020-04-20  YESBANK     EQ  20-Apr-2020       25.10       25.60       30.10   \n",
       "2020-04-21  YESBANK     EQ  21-Apr-2020       29.45       29.40       30.45   \n",
       "2020-04-22  YESBANK     EQ  22-Apr-2020       29.65       29.00       30.30   \n",
       "2020-04-23  YESBANK     EQ  23-Apr-2020       29.60       29.60       29.90   \n",
       "2020-04-24  YESBANK     EQ  24-Apr-2020       28.30       28.05       28.15   \n",
       "...             ...    ...          ...         ...         ...         ...   \n",
       "2020-07-13  YESBANK     EQ  13-Jul-2020       25.55       22.05       23.50   \n",
       "2020-07-14  YESBANK     EQ  14-Jul-2020       22.05       21.80       21.80   \n",
       "2020-07-15  YESBANK     EQ  15-Jul-2020       20.95       20.50       22.00   \n",
       "2020-07-16  YESBANK     EQ  16-Jul-2020       20.45       20.00       20.25   \n",
       "2020-07-17  YESBANK     EQ  17-Jul-2020       19.20       18.40       20.40   \n",
       "\n",
       "            Low Price  Last Price  Close Price  Average Price  \\\n",
       "2020-04-20      25.10       29.75        29.45          28.70   \n",
       "2020-04-21      27.55       29.55        29.65          29.48   \n",
       "2020-04-22      28.80       29.60        29.60          29.48   \n",
       "2020-04-23      27.85       28.30        28.30          28.92   \n",
       "2020-04-24      26.30       26.75        26.60          26.95   \n",
       "...               ...         ...          ...            ...   \n",
       "2020-07-13      21.00       22.05        22.05          22.47   \n",
       "2020-07-14      20.30       20.90        20.95          20.89   \n",
       "2020-07-15      20.30       20.50        20.45          20.96   \n",
       "2020-07-16      18.70       19.15        19.20          19.06   \n",
       "2020-07-17      18.10       19.90        19.80          19.31   \n",
       "\n",
       "            Total Traded Quantity      Turnover  No. of Trades  \\\n",
       "2020-04-20              114977373  3.300281e+09         332695   \n",
       "2020-04-21               76224557  2.247228e+09         239510   \n",
       "2020-04-22               35026262  1.032738e+09         156808   \n",
       "2020-04-23               33488476  9.685897e+08         145896   \n",
       "2020-04-24               34135568  9.201130e+08         123302   \n",
       "...                           ...           ...            ...   \n",
       "2020-07-13               70087262  1.574552e+09         174461   \n",
       "2020-07-14               36853467  7.697035e+08          83277   \n",
       "2020-07-15               43266944  9.067451e+08          97745   \n",
       "2020-07-16               38231469  7.286527e+08          93991   \n",
       "2020-07-17               71216655  1.374963e+09         119434   \n",
       "\n",
       "            Deliverable Qty  % Dly Qt to Traded Qty  \n",
       "2020-04-20         24442623                   21.26  \n",
       "2020-04-21         18191318                   23.87  \n",
       "2020-04-22          9570333                   27.32  \n",
       "2020-04-23         11645113                   34.77  \n",
       "2020-04-24         10831230                   31.73  \n",
       "...                     ...                     ...  \n",
       "2020-07-13         37330261                   53.26  \n",
       "2020-07-14         17666488                   47.94  \n",
       "2020-07-15         18972883                   43.85  \n",
       "2020-07-16         17098840                   44.72  \n",
       "2020-07-17         21531742                   30.23  \n",
       "\n",
       "[63 rows x 15 columns]"
      ]
     },
     "execution_count": 23,
     "metadata": {},
     "output_type": "execute_result"
    }
   ],
   "source": [
    "df= df.set_index(pd.DatetimeIndex(df[\"Date\"].values)) \n",
    "df"
   ]
  },
  {
   "cell_type": "code",
   "execution_count": 31,
   "metadata": {},
   "outputs": [
    {
     "data": {
      "application/vnd.plotly.v1+json": {
       "config": {
        "plotlyServerURL": "https://plot.ly"
       },
       "data": [
        {
         "close": [
          29.45,
          29.65,
          29.6,
          28.3,
          26.6,
          27.05,
          27.25,
          28.05,
          27.9,
          27.05,
          26.6,
          26.3,
          28.1,
          27.05,
          27.8,
          27.95,
          28.65,
          28.2,
          28.7,
          27.55,
          27.4,
          27.15,
          26.9,
          26.55,
          27.4,
          27.6,
          27,
          26.85,
          27.15,
          27.15,
          27.95,
          27.95,
          28.85,
          30.6,
          29.85,
          30.4,
          29.8,
          29.5,
          29,
          28.4,
          27.65,
          28,
          28,
          27.75,
          27.55,
          27.05,
          27,
          26.75,
          26.1,
          25.6,
          26.9,
          26.25,
          26.15,
          26.05,
          25.75,
          26.05,
          26.65,
          25.55,
          22.05,
          20.95,
          20.45,
          19.2,
          19.8
         ],
         "decreasing": {
          "line": {
           "color": "red"
          }
         },
         "high": [
          30.1,
          30.45,
          30.3,
          29.9,
          28.15,
          27.7,
          27.8,
          29.35,
          28.95,
          27.65,
          27.65,
          26.75,
          31.55,
          28.8,
          28.05,
          28.4,
          29.45,
          28.8,
          29,
          28.65,
          28,
          27.6,
          27.6,
          27,
          28.15,
          27.9,
          28.8,
          27.4,
          27.6,
          27.4,
          29.4,
          28.7,
          29.2,
          32,
          31.6,
          30.75,
          31.7,
          29.7,
          30.8,
          29.95,
          28.3,
          28.2,
          28.3,
          28.5,
          27.8,
          27.8,
          27.25,
          27.25,
          26.9,
          26.6,
          28.35,
          27.3,
          26.55,
          26.45,
          26.1,
          27.1,
          27.5,
          26.75,
          23.5,
          21.8,
          22,
          20.25,
          20.4
         ],
         "increasing": {
          "line": {
           "color": "green"
          }
         },
         "low": [
          25.1,
          27.55,
          28.8,
          27.85,
          26.3,
          25.9,
          26.85,
          26.6,
          27.7,
          26.6,
          26.5,
          25,
          25.55,
          26.65,
          26.7,
          26.85,
          28.1,
          27.9,
          27.3,
          26.8,
          27.1,
          27.1,
          26.8,
          26,
          26.35,
          27.35,
          26.85,
          26.5,
          27,
          27.05,
          27.25,
          27.8,
          28,
          29,
          29.7,
          30,
          29.6,
          28,
          28.8,
          27.55,
          27.05,
          27.4,
          27.9,
          27.35,
          27.4,
          27.05,
          26.55,
          26.6,
          26,
          25.5,
          25,
          26.05,
          25.8,
          25.95,
          25.5,
          24,
          26.2,
          24.2,
          21,
          20.3,
          20.3,
          18.7,
          18.1
         ],
         "open": [
          25.6,
          29.4,
          29,
          29.6,
          28.05,
          26.8,
          27.25,
          27,
          28.7,
          27.5,
          27.4,
          26.4,
          25.75,
          28.1,
          27.25,
          27.7,
          29,
          28.4,
          28.2,
          28.65,
          27.7,
          27.15,
          27.2,
          26.95,
          26.95,
          27.45,
          27.85,
          26.5,
          27.55,
          27.25,
          27.6,
          28,
          28,
          29.6,
          31,
          30.35,
          30.6,
          28,
          30,
          29.5,
          27.35,
          27.7,
          28.2,
          28.1,
          27.8,
          27.8,
          27.05,
          27.2,
          26.8,
          26.5,
          25.75,
          27.3,
          26.5,
          26.4,
          26.05,
          25.2,
          27.5,
          26.7,
          22.05,
          21.8,
          20.5,
          20,
          18.4
         ],
         "type": "candlestick",
         "x": [
          "2020-04-20T00:00:00",
          "2020-04-21T00:00:00",
          "2020-04-22T00:00:00",
          "2020-04-23T00:00:00",
          "2020-04-24T00:00:00",
          "2020-04-27T00:00:00",
          "2020-04-28T00:00:00",
          "2020-04-29T00:00:00",
          "2020-04-30T00:00:00",
          "2020-05-04T00:00:00",
          "2020-05-05T00:00:00",
          "2020-05-06T00:00:00",
          "2020-05-07T00:00:00",
          "2020-05-08T00:00:00",
          "2020-05-11T00:00:00",
          "2020-05-12T00:00:00",
          "2020-05-13T00:00:00",
          "2020-05-14T00:00:00",
          "2020-05-15T00:00:00",
          "2020-05-18T00:00:00",
          "2020-05-19T00:00:00",
          "2020-05-20T00:00:00",
          "2020-05-21T00:00:00",
          "2020-05-22T00:00:00",
          "2020-05-26T00:00:00",
          "2020-05-27T00:00:00",
          "2020-05-28T00:00:00",
          "2020-05-29T00:00:00",
          "2020-06-01T00:00:00",
          "2020-06-02T00:00:00",
          "2020-06-03T00:00:00",
          "2020-06-04T00:00:00",
          "2020-06-05T00:00:00",
          "2020-06-08T00:00:00",
          "2020-06-09T00:00:00",
          "2020-06-10T00:00:00",
          "2020-06-11T00:00:00",
          "2020-06-12T00:00:00",
          "2020-06-15T00:00:00",
          "2020-06-16T00:00:00",
          "2020-06-17T00:00:00",
          "2020-06-18T00:00:00",
          "2020-06-19T00:00:00",
          "2020-06-22T00:00:00",
          "2020-06-23T00:00:00",
          "2020-06-24T00:00:00",
          "2020-06-25T00:00:00",
          "2020-06-26T00:00:00",
          "2020-06-29T00:00:00",
          "2020-06-30T00:00:00",
          "2020-07-01T00:00:00",
          "2020-07-02T00:00:00",
          "2020-07-03T00:00:00",
          "2020-07-06T00:00:00",
          "2020-07-07T00:00:00",
          "2020-07-08T00:00:00",
          "2020-07-09T00:00:00",
          "2020-07-10T00:00:00",
          "2020-07-13T00:00:00",
          "2020-07-14T00:00:00",
          "2020-07-15T00:00:00",
          "2020-07-16T00:00:00",
          "2020-07-17T00:00:00"
         ]
        }
       ],
       "layout": {
        "template": {
         "data": {
          "bar": [
           {
            "error_x": {
             "color": "#2a3f5f"
            },
            "error_y": {
             "color": "#2a3f5f"
            },
            "marker": {
             "line": {
              "color": "#E5ECF6",
              "width": 0.5
             }
            },
            "type": "bar"
           }
          ],
          "barpolar": [
           {
            "marker": {
             "line": {
              "color": "#E5ECF6",
              "width": 0.5
             }
            },
            "type": "barpolar"
           }
          ],
          "carpet": [
           {
            "aaxis": {
             "endlinecolor": "#2a3f5f",
             "gridcolor": "white",
             "linecolor": "white",
             "minorgridcolor": "white",
             "startlinecolor": "#2a3f5f"
            },
            "baxis": {
             "endlinecolor": "#2a3f5f",
             "gridcolor": "white",
             "linecolor": "white",
             "minorgridcolor": "white",
             "startlinecolor": "#2a3f5f"
            },
            "type": "carpet"
           }
          ],
          "choropleth": [
           {
            "colorbar": {
             "outlinewidth": 0,
             "ticks": ""
            },
            "type": "choropleth"
           }
          ],
          "contour": [
           {
            "colorbar": {
             "outlinewidth": 0,
             "ticks": ""
            },
            "colorscale": [
             [
              0,
              "#0d0887"
             ],
             [
              0.1111111111111111,
              "#46039f"
             ],
             [
              0.2222222222222222,
              "#7201a8"
             ],
             [
              0.3333333333333333,
              "#9c179e"
             ],
             [
              0.4444444444444444,
              "#bd3786"
             ],
             [
              0.5555555555555556,
              "#d8576b"
             ],
             [
              0.6666666666666666,
              "#ed7953"
             ],
             [
              0.7777777777777778,
              "#fb9f3a"
             ],
             [
              0.8888888888888888,
              "#fdca26"
             ],
             [
              1,
              "#f0f921"
             ]
            ],
            "type": "contour"
           }
          ],
          "contourcarpet": [
           {
            "colorbar": {
             "outlinewidth": 0,
             "ticks": ""
            },
            "type": "contourcarpet"
           }
          ],
          "heatmap": [
           {
            "colorbar": {
             "outlinewidth": 0,
             "ticks": ""
            },
            "colorscale": [
             [
              0,
              "#0d0887"
             ],
             [
              0.1111111111111111,
              "#46039f"
             ],
             [
              0.2222222222222222,
              "#7201a8"
             ],
             [
              0.3333333333333333,
              "#9c179e"
             ],
             [
              0.4444444444444444,
              "#bd3786"
             ],
             [
              0.5555555555555556,
              "#d8576b"
             ],
             [
              0.6666666666666666,
              "#ed7953"
             ],
             [
              0.7777777777777778,
              "#fb9f3a"
             ],
             [
              0.8888888888888888,
              "#fdca26"
             ],
             [
              1,
              "#f0f921"
             ]
            ],
            "type": "heatmap"
           }
          ],
          "heatmapgl": [
           {
            "colorbar": {
             "outlinewidth": 0,
             "ticks": ""
            },
            "colorscale": [
             [
              0,
              "#0d0887"
             ],
             [
              0.1111111111111111,
              "#46039f"
             ],
             [
              0.2222222222222222,
              "#7201a8"
             ],
             [
              0.3333333333333333,
              "#9c179e"
             ],
             [
              0.4444444444444444,
              "#bd3786"
             ],
             [
              0.5555555555555556,
              "#d8576b"
             ],
             [
              0.6666666666666666,
              "#ed7953"
             ],
             [
              0.7777777777777778,
              "#fb9f3a"
             ],
             [
              0.8888888888888888,
              "#fdca26"
             ],
             [
              1,
              "#f0f921"
             ]
            ],
            "type": "heatmapgl"
           }
          ],
          "histogram": [
           {
            "marker": {
             "colorbar": {
              "outlinewidth": 0,
              "ticks": ""
             }
            },
            "type": "histogram"
           }
          ],
          "histogram2d": [
           {
            "colorbar": {
             "outlinewidth": 0,
             "ticks": ""
            },
            "colorscale": [
             [
              0,
              "#0d0887"
             ],
             [
              0.1111111111111111,
              "#46039f"
             ],
             [
              0.2222222222222222,
              "#7201a8"
             ],
             [
              0.3333333333333333,
              "#9c179e"
             ],
             [
              0.4444444444444444,
              "#bd3786"
             ],
             [
              0.5555555555555556,
              "#d8576b"
             ],
             [
              0.6666666666666666,
              "#ed7953"
             ],
             [
              0.7777777777777778,
              "#fb9f3a"
             ],
             [
              0.8888888888888888,
              "#fdca26"
             ],
             [
              1,
              "#f0f921"
             ]
            ],
            "type": "histogram2d"
           }
          ],
          "histogram2dcontour": [
           {
            "colorbar": {
             "outlinewidth": 0,
             "ticks": ""
            },
            "colorscale": [
             [
              0,
              "#0d0887"
             ],
             [
              0.1111111111111111,
              "#46039f"
             ],
             [
              0.2222222222222222,
              "#7201a8"
             ],
             [
              0.3333333333333333,
              "#9c179e"
             ],
             [
              0.4444444444444444,
              "#bd3786"
             ],
             [
              0.5555555555555556,
              "#d8576b"
             ],
             [
              0.6666666666666666,
              "#ed7953"
             ],
             [
              0.7777777777777778,
              "#fb9f3a"
             ],
             [
              0.8888888888888888,
              "#fdca26"
             ],
             [
              1,
              "#f0f921"
             ]
            ],
            "type": "histogram2dcontour"
           }
          ],
          "mesh3d": [
           {
            "colorbar": {
             "outlinewidth": 0,
             "ticks": ""
            },
            "type": "mesh3d"
           }
          ],
          "parcoords": [
           {
            "line": {
             "colorbar": {
              "outlinewidth": 0,
              "ticks": ""
             }
            },
            "type": "parcoords"
           }
          ],
          "pie": [
           {
            "automargin": true,
            "type": "pie"
           }
          ],
          "scatter": [
           {
            "marker": {
             "colorbar": {
              "outlinewidth": 0,
              "ticks": ""
             }
            },
            "type": "scatter"
           }
          ],
          "scatter3d": [
           {
            "line": {
             "colorbar": {
              "outlinewidth": 0,
              "ticks": ""
             }
            },
            "marker": {
             "colorbar": {
              "outlinewidth": 0,
              "ticks": ""
             }
            },
            "type": "scatter3d"
           }
          ],
          "scattercarpet": [
           {
            "marker": {
             "colorbar": {
              "outlinewidth": 0,
              "ticks": ""
             }
            },
            "type": "scattercarpet"
           }
          ],
          "scattergeo": [
           {
            "marker": {
             "colorbar": {
              "outlinewidth": 0,
              "ticks": ""
             }
            },
            "type": "scattergeo"
           }
          ],
          "scattergl": [
           {
            "marker": {
             "colorbar": {
              "outlinewidth": 0,
              "ticks": ""
             }
            },
            "type": "scattergl"
           }
          ],
          "scattermapbox": [
           {
            "marker": {
             "colorbar": {
              "outlinewidth": 0,
              "ticks": ""
             }
            },
            "type": "scattermapbox"
           }
          ],
          "scatterpolar": [
           {
            "marker": {
             "colorbar": {
              "outlinewidth": 0,
              "ticks": ""
             }
            },
            "type": "scatterpolar"
           }
          ],
          "scatterpolargl": [
           {
            "marker": {
             "colorbar": {
              "outlinewidth": 0,
              "ticks": ""
             }
            },
            "type": "scatterpolargl"
           }
          ],
          "scatterternary": [
           {
            "marker": {
             "colorbar": {
              "outlinewidth": 0,
              "ticks": ""
             }
            },
            "type": "scatterternary"
           }
          ],
          "surface": [
           {
            "colorbar": {
             "outlinewidth": 0,
             "ticks": ""
            },
            "colorscale": [
             [
              0,
              "#0d0887"
             ],
             [
              0.1111111111111111,
              "#46039f"
             ],
             [
              0.2222222222222222,
              "#7201a8"
             ],
             [
              0.3333333333333333,
              "#9c179e"
             ],
             [
              0.4444444444444444,
              "#bd3786"
             ],
             [
              0.5555555555555556,
              "#d8576b"
             ],
             [
              0.6666666666666666,
              "#ed7953"
             ],
             [
              0.7777777777777778,
              "#fb9f3a"
             ],
             [
              0.8888888888888888,
              "#fdca26"
             ],
             [
              1,
              "#f0f921"
             ]
            ],
            "type": "surface"
           }
          ],
          "table": [
           {
            "cells": {
             "fill": {
              "color": "#EBF0F8"
             },
             "line": {
              "color": "white"
             }
            },
            "header": {
             "fill": {
              "color": "#C8D4E3"
             },
             "line": {
              "color": "white"
             }
            },
            "type": "table"
           }
          ]
         },
         "layout": {
          "annotationdefaults": {
           "arrowcolor": "#2a3f5f",
           "arrowhead": 0,
           "arrowwidth": 1
          },
          "coloraxis": {
           "colorbar": {
            "outlinewidth": 0,
            "ticks": ""
           }
          },
          "colorscale": {
           "diverging": [
            [
             0,
             "#8e0152"
            ],
            [
             0.1,
             "#c51b7d"
            ],
            [
             0.2,
             "#de77ae"
            ],
            [
             0.3,
             "#f1b6da"
            ],
            [
             0.4,
             "#fde0ef"
            ],
            [
             0.5,
             "#f7f7f7"
            ],
            [
             0.6,
             "#e6f5d0"
            ],
            [
             0.7,
             "#b8e186"
            ],
            [
             0.8,
             "#7fbc41"
            ],
            [
             0.9,
             "#4d9221"
            ],
            [
             1,
             "#276419"
            ]
           ],
           "sequential": [
            [
             0,
             "#0d0887"
            ],
            [
             0.1111111111111111,
             "#46039f"
            ],
            [
             0.2222222222222222,
             "#7201a8"
            ],
            [
             0.3333333333333333,
             "#9c179e"
            ],
            [
             0.4444444444444444,
             "#bd3786"
            ],
            [
             0.5555555555555556,
             "#d8576b"
            ],
            [
             0.6666666666666666,
             "#ed7953"
            ],
            [
             0.7777777777777778,
             "#fb9f3a"
            ],
            [
             0.8888888888888888,
             "#fdca26"
            ],
            [
             1,
             "#f0f921"
            ]
           ],
           "sequentialminus": [
            [
             0,
             "#0d0887"
            ],
            [
             0.1111111111111111,
             "#46039f"
            ],
            [
             0.2222222222222222,
             "#7201a8"
            ],
            [
             0.3333333333333333,
             "#9c179e"
            ],
            [
             0.4444444444444444,
             "#bd3786"
            ],
            [
             0.5555555555555556,
             "#d8576b"
            ],
            [
             0.6666666666666666,
             "#ed7953"
            ],
            [
             0.7777777777777778,
             "#fb9f3a"
            ],
            [
             0.8888888888888888,
             "#fdca26"
            ],
            [
             1,
             "#f0f921"
            ]
           ]
          },
          "colorway": [
           "#636efa",
           "#EF553B",
           "#00cc96",
           "#ab63fa",
           "#FFA15A",
           "#19d3f3",
           "#FF6692",
           "#B6E880",
           "#FF97FF",
           "#FECB52"
          ],
          "font": {
           "color": "#2a3f5f"
          },
          "geo": {
           "bgcolor": "white",
           "lakecolor": "white",
           "landcolor": "#E5ECF6",
           "showlakes": true,
           "showland": true,
           "subunitcolor": "white"
          },
          "hoverlabel": {
           "align": "left"
          },
          "hovermode": "closest",
          "mapbox": {
           "style": "light"
          },
          "paper_bgcolor": "white",
          "plot_bgcolor": "#E5ECF6",
          "polar": {
           "angularaxis": {
            "gridcolor": "white",
            "linecolor": "white",
            "ticks": ""
           },
           "bgcolor": "#E5ECF6",
           "radialaxis": {
            "gridcolor": "white",
            "linecolor": "white",
            "ticks": ""
           }
          },
          "scene": {
           "xaxis": {
            "backgroundcolor": "#E5ECF6",
            "gridcolor": "white",
            "gridwidth": 2,
            "linecolor": "white",
            "showbackground": true,
            "ticks": "",
            "zerolinecolor": "white"
           },
           "yaxis": {
            "backgroundcolor": "#E5ECF6",
            "gridcolor": "white",
            "gridwidth": 2,
            "linecolor": "white",
            "showbackground": true,
            "ticks": "",
            "zerolinecolor": "white"
           },
           "zaxis": {
            "backgroundcolor": "#E5ECF6",
            "gridcolor": "white",
            "gridwidth": 2,
            "linecolor": "white",
            "showbackground": true,
            "ticks": "",
            "zerolinecolor": "white"
           }
          },
          "shapedefaults": {
           "line": {
            "color": "#2a3f5f"
           }
          },
          "ternary": {
           "aaxis": {
            "gridcolor": "white",
            "linecolor": "white",
            "ticks": ""
           },
           "baxis": {
            "gridcolor": "white",
            "linecolor": "white",
            "ticks": ""
           },
           "bgcolor": "#E5ECF6",
           "caxis": {
            "gridcolor": "white",
            "linecolor": "white",
            "ticks": ""
           }
          },
          "title": {
           "x": 0.05
          },
          "xaxis": {
           "automargin": true,
           "gridcolor": "white",
           "linecolor": "white",
           "ticks": "",
           "title": {
            "standoff": 15
           },
           "zerolinecolor": "white",
           "zerolinewidth": 2
          },
          "yaxis": {
           "automargin": true,
           "gridcolor": "white",
           "linecolor": "white",
           "ticks": "",
           "title": {
            "standoff": 15
           },
           "zerolinecolor": "white",
           "zerolinewidth": 2
          }
         }
        },
        "title": {
         "text": "YES BANK IN RS "
        },
        "xaxis": {
         "title": {
          "text": "date"
         }
        },
        "yaxis": {
         "title": {
          "text": "yes bank mp"
         }
        }
       }
      },
      "text/html": [
       "<div>\n",
       "        \n",
       "        \n",
       "            <div id=\"045bbd88-6933-486a-b965-795445870019\" class=\"plotly-graph-div\" style=\"height:525px; width:100%;\"></div>\n",
       "            <script type=\"text/javascript\">\n",
       "                require([\"plotly\"], function(Plotly) {\n",
       "                    window.PLOTLYENV=window.PLOTLYENV || {};\n",
       "                    \n",
       "                if (document.getElementById(\"045bbd88-6933-486a-b965-795445870019\")) {\n",
       "                    Plotly.newPlot(\n",
       "                        '045bbd88-6933-486a-b965-795445870019',\n",
       "                        [{\"close\": [29.45, 29.65, 29.6, 28.3, 26.6, 27.05, 27.25, 28.05, 27.9, 27.05, 26.6, 26.3, 28.1, 27.05, 27.8, 27.95, 28.65, 28.2, 28.7, 27.55, 27.4, 27.15, 26.9, 26.55, 27.4, 27.6, 27.0, 26.85, 27.15, 27.15, 27.95, 27.95, 28.85, 30.6, 29.85, 30.4, 29.8, 29.5, 29.0, 28.4, 27.65, 28.0, 28.0, 27.75, 27.55, 27.05, 27.0, 26.75, 26.1, 25.6, 26.9, 26.25, 26.15, 26.05, 25.75, 26.05, 26.65, 25.55, 22.05, 20.95, 20.45, 19.2, 19.8], \"decreasing\": {\"line\": {\"color\": \"red\"}}, \"high\": [30.1, 30.45, 30.3, 29.9, 28.15, 27.7, 27.8, 29.35, 28.95, 27.65, 27.65, 26.75, 31.55, 28.8, 28.05, 28.4, 29.45, 28.8, 29.0, 28.65, 28.0, 27.6, 27.6, 27.0, 28.15, 27.9, 28.8, 27.4, 27.6, 27.4, 29.4, 28.7, 29.2, 32.0, 31.6, 30.75, 31.7, 29.7, 30.8, 29.95, 28.3, 28.2, 28.3, 28.5, 27.8, 27.8, 27.25, 27.25, 26.9, 26.6, 28.35, 27.3, 26.55, 26.45, 26.1, 27.1, 27.5, 26.75, 23.5, 21.8, 22.0, 20.25, 20.4], \"increasing\": {\"line\": {\"color\": \"green\"}}, \"low\": [25.1, 27.55, 28.8, 27.85, 26.3, 25.9, 26.85, 26.6, 27.7, 26.6, 26.5, 25.0, 25.55, 26.65, 26.7, 26.85, 28.1, 27.9, 27.3, 26.8, 27.1, 27.1, 26.8, 26.0, 26.35, 27.35, 26.85, 26.5, 27.0, 27.05, 27.25, 27.8, 28.0, 29.0, 29.7, 30.0, 29.6, 28.0, 28.8, 27.55, 27.05, 27.4, 27.9, 27.35, 27.4, 27.05, 26.55, 26.6, 26.0, 25.5, 25.0, 26.05, 25.8, 25.95, 25.5, 24.0, 26.2, 24.2, 21.0, 20.3, 20.3, 18.7, 18.1], \"open\": [25.6, 29.4, 29.0, 29.6, 28.05, 26.8, 27.25, 27.0, 28.7, 27.5, 27.4, 26.4, 25.75, 28.1, 27.25, 27.7, 29.0, 28.4, 28.2, 28.65, 27.7, 27.15, 27.2, 26.95, 26.95, 27.45, 27.85, 26.5, 27.55, 27.25, 27.6, 28.0, 28.0, 29.6, 31.0, 30.35, 30.6, 28.0, 30.0, 29.5, 27.35, 27.7, 28.2, 28.1, 27.8, 27.8, 27.05, 27.2, 26.8, 26.5, 25.75, 27.3, 26.5, 26.4, 26.05, 25.2, 27.5, 26.7, 22.05, 21.8, 20.5, 20.0, 18.4], \"type\": \"candlestick\", \"x\": [\"2020-04-20T00:00:00\", \"2020-04-21T00:00:00\", \"2020-04-22T00:00:00\", \"2020-04-23T00:00:00\", \"2020-04-24T00:00:00\", \"2020-04-27T00:00:00\", \"2020-04-28T00:00:00\", \"2020-04-29T00:00:00\", \"2020-04-30T00:00:00\", \"2020-05-04T00:00:00\", \"2020-05-05T00:00:00\", \"2020-05-06T00:00:00\", \"2020-05-07T00:00:00\", \"2020-05-08T00:00:00\", \"2020-05-11T00:00:00\", \"2020-05-12T00:00:00\", \"2020-05-13T00:00:00\", \"2020-05-14T00:00:00\", \"2020-05-15T00:00:00\", \"2020-05-18T00:00:00\", \"2020-05-19T00:00:00\", \"2020-05-20T00:00:00\", \"2020-05-21T00:00:00\", \"2020-05-22T00:00:00\", \"2020-05-26T00:00:00\", \"2020-05-27T00:00:00\", \"2020-05-28T00:00:00\", \"2020-05-29T00:00:00\", \"2020-06-01T00:00:00\", \"2020-06-02T00:00:00\", \"2020-06-03T00:00:00\", \"2020-06-04T00:00:00\", \"2020-06-05T00:00:00\", \"2020-06-08T00:00:00\", \"2020-06-09T00:00:00\", \"2020-06-10T00:00:00\", \"2020-06-11T00:00:00\", \"2020-06-12T00:00:00\", \"2020-06-15T00:00:00\", \"2020-06-16T00:00:00\", \"2020-06-17T00:00:00\", \"2020-06-18T00:00:00\", \"2020-06-19T00:00:00\", \"2020-06-22T00:00:00\", \"2020-06-23T00:00:00\", \"2020-06-24T00:00:00\", \"2020-06-25T00:00:00\", \"2020-06-26T00:00:00\", \"2020-06-29T00:00:00\", \"2020-06-30T00:00:00\", \"2020-07-01T00:00:00\", \"2020-07-02T00:00:00\", \"2020-07-03T00:00:00\", \"2020-07-06T00:00:00\", \"2020-07-07T00:00:00\", \"2020-07-08T00:00:00\", \"2020-07-09T00:00:00\", \"2020-07-10T00:00:00\", \"2020-07-13T00:00:00\", \"2020-07-14T00:00:00\", \"2020-07-15T00:00:00\", \"2020-07-16T00:00:00\", \"2020-07-17T00:00:00\"]}],\n",
       "                        {\"template\": {\"data\": {\"bar\": [{\"error_x\": {\"color\": \"#2a3f5f\"}, \"error_y\": {\"color\": \"#2a3f5f\"}, \"marker\": {\"line\": {\"color\": \"#E5ECF6\", \"width\": 0.5}}, \"type\": \"bar\"}], \"barpolar\": [{\"marker\": {\"line\": {\"color\": \"#E5ECF6\", \"width\": 0.5}}, \"type\": \"barpolar\"}], \"carpet\": [{\"aaxis\": {\"endlinecolor\": \"#2a3f5f\", \"gridcolor\": \"white\", \"linecolor\": \"white\", \"minorgridcolor\": \"white\", \"startlinecolor\": \"#2a3f5f\"}, \"baxis\": {\"endlinecolor\": \"#2a3f5f\", \"gridcolor\": \"white\", \"linecolor\": \"white\", \"minorgridcolor\": \"white\", \"startlinecolor\": \"#2a3f5f\"}, \"type\": \"carpet\"}], \"choropleth\": [{\"colorbar\": {\"outlinewidth\": 0, \"ticks\": \"\"}, \"type\": \"choropleth\"}], \"contour\": [{\"colorbar\": {\"outlinewidth\": 0, \"ticks\": \"\"}, \"colorscale\": [[0.0, \"#0d0887\"], [0.1111111111111111, \"#46039f\"], [0.2222222222222222, \"#7201a8\"], [0.3333333333333333, \"#9c179e\"], [0.4444444444444444, \"#bd3786\"], [0.5555555555555556, \"#d8576b\"], [0.6666666666666666, \"#ed7953\"], [0.7777777777777778, \"#fb9f3a\"], [0.8888888888888888, \"#fdca26\"], [1.0, \"#f0f921\"]], \"type\": \"contour\"}], \"contourcarpet\": [{\"colorbar\": {\"outlinewidth\": 0, \"ticks\": \"\"}, \"type\": \"contourcarpet\"}], \"heatmap\": [{\"colorbar\": {\"outlinewidth\": 0, \"ticks\": \"\"}, \"colorscale\": [[0.0, \"#0d0887\"], [0.1111111111111111, \"#46039f\"], [0.2222222222222222, \"#7201a8\"], [0.3333333333333333, \"#9c179e\"], [0.4444444444444444, \"#bd3786\"], [0.5555555555555556, \"#d8576b\"], [0.6666666666666666, \"#ed7953\"], [0.7777777777777778, \"#fb9f3a\"], [0.8888888888888888, \"#fdca26\"], [1.0, \"#f0f921\"]], \"type\": \"heatmap\"}], \"heatmapgl\": [{\"colorbar\": {\"outlinewidth\": 0, \"ticks\": \"\"}, \"colorscale\": [[0.0, \"#0d0887\"], [0.1111111111111111, \"#46039f\"], [0.2222222222222222, \"#7201a8\"], [0.3333333333333333, \"#9c179e\"], [0.4444444444444444, \"#bd3786\"], [0.5555555555555556, \"#d8576b\"], [0.6666666666666666, \"#ed7953\"], [0.7777777777777778, \"#fb9f3a\"], [0.8888888888888888, \"#fdca26\"], [1.0, \"#f0f921\"]], \"type\": \"heatmapgl\"}], \"histogram\": [{\"marker\": {\"colorbar\": {\"outlinewidth\": 0, \"ticks\": \"\"}}, \"type\": \"histogram\"}], \"histogram2d\": [{\"colorbar\": {\"outlinewidth\": 0, \"ticks\": \"\"}, \"colorscale\": [[0.0, \"#0d0887\"], [0.1111111111111111, \"#46039f\"], [0.2222222222222222, \"#7201a8\"], [0.3333333333333333, \"#9c179e\"], [0.4444444444444444, \"#bd3786\"], [0.5555555555555556, \"#d8576b\"], [0.6666666666666666, \"#ed7953\"], [0.7777777777777778, \"#fb9f3a\"], [0.8888888888888888, \"#fdca26\"], [1.0, \"#f0f921\"]], \"type\": \"histogram2d\"}], \"histogram2dcontour\": [{\"colorbar\": {\"outlinewidth\": 0, \"ticks\": \"\"}, \"colorscale\": [[0.0, \"#0d0887\"], [0.1111111111111111, \"#46039f\"], [0.2222222222222222, \"#7201a8\"], [0.3333333333333333, \"#9c179e\"], [0.4444444444444444, \"#bd3786\"], [0.5555555555555556, \"#d8576b\"], [0.6666666666666666, \"#ed7953\"], [0.7777777777777778, \"#fb9f3a\"], [0.8888888888888888, \"#fdca26\"], [1.0, \"#f0f921\"]], \"type\": \"histogram2dcontour\"}], \"mesh3d\": [{\"colorbar\": {\"outlinewidth\": 0, \"ticks\": \"\"}, \"type\": \"mesh3d\"}], \"parcoords\": [{\"line\": {\"colorbar\": {\"outlinewidth\": 0, \"ticks\": \"\"}}, \"type\": \"parcoords\"}], \"pie\": [{\"automargin\": true, \"type\": \"pie\"}], \"scatter\": [{\"marker\": {\"colorbar\": {\"outlinewidth\": 0, \"ticks\": \"\"}}, \"type\": \"scatter\"}], \"scatter3d\": [{\"line\": {\"colorbar\": {\"outlinewidth\": 0, \"ticks\": \"\"}}, \"marker\": {\"colorbar\": {\"outlinewidth\": 0, \"ticks\": \"\"}}, \"type\": \"scatter3d\"}], \"scattercarpet\": [{\"marker\": {\"colorbar\": {\"outlinewidth\": 0, \"ticks\": \"\"}}, \"type\": \"scattercarpet\"}], \"scattergeo\": [{\"marker\": {\"colorbar\": {\"outlinewidth\": 0, \"ticks\": \"\"}}, \"type\": \"scattergeo\"}], \"scattergl\": [{\"marker\": {\"colorbar\": {\"outlinewidth\": 0, \"ticks\": \"\"}}, \"type\": \"scattergl\"}], \"scattermapbox\": [{\"marker\": {\"colorbar\": {\"outlinewidth\": 0, \"ticks\": \"\"}}, \"type\": \"scattermapbox\"}], \"scatterpolar\": [{\"marker\": {\"colorbar\": {\"outlinewidth\": 0, \"ticks\": \"\"}}, \"type\": \"scatterpolar\"}], \"scatterpolargl\": [{\"marker\": {\"colorbar\": {\"outlinewidth\": 0, \"ticks\": \"\"}}, \"type\": \"scatterpolargl\"}], \"scatterternary\": [{\"marker\": {\"colorbar\": {\"outlinewidth\": 0, \"ticks\": \"\"}}, \"type\": \"scatterternary\"}], \"surface\": [{\"colorbar\": {\"outlinewidth\": 0, \"ticks\": \"\"}, \"colorscale\": [[0.0, \"#0d0887\"], [0.1111111111111111, \"#46039f\"], [0.2222222222222222, \"#7201a8\"], [0.3333333333333333, \"#9c179e\"], [0.4444444444444444, \"#bd3786\"], [0.5555555555555556, \"#d8576b\"], [0.6666666666666666, \"#ed7953\"], [0.7777777777777778, \"#fb9f3a\"], [0.8888888888888888, \"#fdca26\"], [1.0, \"#f0f921\"]], \"type\": \"surface\"}], \"table\": [{\"cells\": {\"fill\": {\"color\": \"#EBF0F8\"}, \"line\": {\"color\": \"white\"}}, \"header\": {\"fill\": {\"color\": \"#C8D4E3\"}, \"line\": {\"color\": \"white\"}}, \"type\": \"table\"}]}, \"layout\": {\"annotationdefaults\": {\"arrowcolor\": \"#2a3f5f\", \"arrowhead\": 0, \"arrowwidth\": 1}, \"coloraxis\": {\"colorbar\": {\"outlinewidth\": 0, \"ticks\": \"\"}}, \"colorscale\": {\"diverging\": [[0, \"#8e0152\"], [0.1, \"#c51b7d\"], [0.2, \"#de77ae\"], [0.3, \"#f1b6da\"], [0.4, \"#fde0ef\"], [0.5, \"#f7f7f7\"], [0.6, \"#e6f5d0\"], [0.7, \"#b8e186\"], [0.8, \"#7fbc41\"], [0.9, \"#4d9221\"], [1, \"#276419\"]], \"sequential\": [[0.0, \"#0d0887\"], [0.1111111111111111, \"#46039f\"], [0.2222222222222222, \"#7201a8\"], [0.3333333333333333, \"#9c179e\"], [0.4444444444444444, \"#bd3786\"], [0.5555555555555556, \"#d8576b\"], [0.6666666666666666, \"#ed7953\"], [0.7777777777777778, \"#fb9f3a\"], [0.8888888888888888, \"#fdca26\"], [1.0, \"#f0f921\"]], \"sequentialminus\": [[0.0, \"#0d0887\"], [0.1111111111111111, \"#46039f\"], [0.2222222222222222, \"#7201a8\"], [0.3333333333333333, \"#9c179e\"], [0.4444444444444444, \"#bd3786\"], [0.5555555555555556, \"#d8576b\"], [0.6666666666666666, \"#ed7953\"], [0.7777777777777778, \"#fb9f3a\"], [0.8888888888888888, \"#fdca26\"], [1.0, \"#f0f921\"]]}, \"colorway\": [\"#636efa\", \"#EF553B\", \"#00cc96\", \"#ab63fa\", \"#FFA15A\", \"#19d3f3\", \"#FF6692\", \"#B6E880\", \"#FF97FF\", \"#FECB52\"], \"font\": {\"color\": \"#2a3f5f\"}, \"geo\": {\"bgcolor\": \"white\", \"lakecolor\": \"white\", \"landcolor\": \"#E5ECF6\", \"showlakes\": true, \"showland\": true, \"subunitcolor\": \"white\"}, \"hoverlabel\": {\"align\": \"left\"}, \"hovermode\": \"closest\", \"mapbox\": {\"style\": \"light\"}, \"paper_bgcolor\": \"white\", \"plot_bgcolor\": \"#E5ECF6\", \"polar\": {\"angularaxis\": {\"gridcolor\": \"white\", \"linecolor\": \"white\", \"ticks\": \"\"}, \"bgcolor\": \"#E5ECF6\", \"radialaxis\": {\"gridcolor\": \"white\", \"linecolor\": \"white\", \"ticks\": \"\"}}, \"scene\": {\"xaxis\": {\"backgroundcolor\": \"#E5ECF6\", \"gridcolor\": \"white\", \"gridwidth\": 2, \"linecolor\": \"white\", \"showbackground\": true, \"ticks\": \"\", \"zerolinecolor\": \"white\"}, \"yaxis\": {\"backgroundcolor\": \"#E5ECF6\", \"gridcolor\": \"white\", \"gridwidth\": 2, \"linecolor\": \"white\", \"showbackground\": true, \"ticks\": \"\", \"zerolinecolor\": \"white\"}, \"zaxis\": {\"backgroundcolor\": \"#E5ECF6\", \"gridcolor\": \"white\", \"gridwidth\": 2, \"linecolor\": \"white\", \"showbackground\": true, \"ticks\": \"\", \"zerolinecolor\": \"white\"}}, \"shapedefaults\": {\"line\": {\"color\": \"#2a3f5f\"}}, \"ternary\": {\"aaxis\": {\"gridcolor\": \"white\", \"linecolor\": \"white\", \"ticks\": \"\"}, \"baxis\": {\"gridcolor\": \"white\", \"linecolor\": \"white\", \"ticks\": \"\"}, \"bgcolor\": \"#E5ECF6\", \"caxis\": {\"gridcolor\": \"white\", \"linecolor\": \"white\", \"ticks\": \"\"}}, \"title\": {\"x\": 0.05}, \"xaxis\": {\"automargin\": true, \"gridcolor\": \"white\", \"linecolor\": \"white\", \"ticks\": \"\", \"title\": {\"standoff\": 15}, \"zerolinecolor\": \"white\", \"zerolinewidth\": 2}, \"yaxis\": {\"automargin\": true, \"gridcolor\": \"white\", \"linecolor\": \"white\", \"ticks\": \"\", \"title\": {\"standoff\": 15}, \"zerolinecolor\": \"white\", \"zerolinewidth\": 2}}}, \"title\": {\"text\": \"YES BANK IN RS \"}, \"xaxis\": {\"title\": {\"text\": \"date\"}}, \"yaxis\": {\"title\": {\"text\": \"yes bank mp\"}}},\n",
       "                        {\"responsive\": true}\n",
       "                    ).then(function(){\n",
       "                            \n",
       "var gd = document.getElementById('045bbd88-6933-486a-b965-795445870019');\n",
       "var x = new MutationObserver(function (mutations, observer) {{\n",
       "        var display = window.getComputedStyle(gd).display;\n",
       "        if (!display || display === 'none') {{\n",
       "            console.log([gd, 'removed!']);\n",
       "            Plotly.purge(gd);\n",
       "            observer.disconnect();\n",
       "        }}\n",
       "}});\n",
       "\n",
       "// Listen for the removal of the full notebook cells\n",
       "var notebookContainer = gd.closest('#notebook-container');\n",
       "if (notebookContainer) {{\n",
       "    x.observe(notebookContainer, {childList: true});\n",
       "}}\n",
       "\n",
       "// Listen for the clearing of the current output cell\n",
       "var outputEl = gd.closest('.output');\n",
       "if (outputEl) {{\n",
       "    x.observe(outputEl, {childList: true});\n",
       "}}\n",
       "\n",
       "                        })\n",
       "                };\n",
       "                });\n",
       "            </script>\n",
       "        </div>"
      ]
     },
     "metadata": {},
     "output_type": "display_data"
    }
   ],
   "source": [
    "#CREATE INTERACTIVE CANDLESTICK CHART\n",
    "figure = go.Figure(\n",
    "   data = [go.Candlestick(\n",
    "             x= df.index,\n",
    "             low = df[\"Low Price\"],\n",
    "              high = df[\"High Price\"],\n",
    "              close = df[\"Close Price\"],\n",
    "               open = df[\"Open Price\"],\n",
    "               increasing_line_color = \"green\",\n",
    "                decreasing_line_color = \"red\"\n",
    "          )\n",
    "    ]\n",
    " )\n",
    "#figure.update_layout(xaxis_rangeslider_visible=False)\n",
    "figure.update_layout(\n",
    "    title = \"YES BANK IN RS \",\n",
    "    yaxis_title= \"yes bank mp\",\n",
    "    xaxis_title=\"date\"\n",
    ")\n",
    "figure.show()"
   ]
  },
  {
   "cell_type": "raw",
   "metadata": {},
   "source": []
  }
 ],
 "metadata": {
  "kernelspec": {
   "display_name": "Python 3",
   "language": "python",
   "name": "python3"
  },
  "language_info": {
   "codemirror_mode": {
    "name": "ipython",
    "version": 3
   },
   "file_extension": ".py",
   "mimetype": "text/x-python",
   "name": "python",
   "nbconvert_exporter": "python",
   "pygments_lexer": "ipython3",
   "version": "3.7.6"
  }
 },
 "nbformat": 4,
 "nbformat_minor": 4
}
